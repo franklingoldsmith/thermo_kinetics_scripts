{
 "cells": [
  {
   "cell_type": "code",
   "execution_count": 1,
   "metadata": {},
   "outputs": [
    {
     "name": "stdout",
     "output_type": "stream",
     "text": [
      "45.01990099997529\n"
     ]
    }
   ],
   "source": [
    "\"\"\"\n",
    "Created on Thu Mar  17 10:14:53 2022\n",
    "\n",
    "@author: Katrin Blondal, Bjarne Kreitz, Franklin Goldsmith, School of Engineering, Brown University\n",
    "\"\"\"\n",
    "\n",
    "import numpy as np\n",
    "import pandas as pd\n",
    "import matplotlib.pyplot  as plt\n",
    "import csv\n",
    "import numpy\n",
    "from decimal import Decimal\n",
    "\n",
    "plt.rcParams['figure.figsize']=(7,6)\n",
    "plt.rcParams['axes.titlesize']=16\n",
    "plt.rcParams['axes.linewidth'] = 2 #set the value globally\n",
    "plt.rc('xtick', labelsize=14)\n",
    "plt.rc('ytick', labelsize=14)\n",
    "plt.rc('axes', labelsize=16)\n",
    "plt.rc('legend', fontsize=14)\n",
    "plt.rcParams['lines.markersize'] = 10\n",
    "plt.rcParams['xtick.direction']='in'\n",
    "plt.rcParams['ytick.direction']='in'\n",
    "plt.rcParams['xtick.major.size']=6\n",
    "plt.rcParams['xtick.major.width']=1.5\n",
    "plt.rcParams['ytick.major.size']=6\n",
    "plt.rcParams['ytick.major.width']=1.5\n",
    "plt.rcParams['legend.edgecolor']='k'\n",
    "\n",
    "#Required constants\n",
    "kb= 1.380649e-23 #ct.boltzmann units: m2kg/s2/K\n",
    "h= 6.62607009e-34 #ct.planck units: Js\n",
    "R= 8.3144621 #ct.gas_constant/1e3 units: J/mol/K\n",
    "\n",
    "#read the files that contain the entropy and the partition function as \n",
    "# a function of temperature\n",
    "\n",
    "TST=pd.read_csv(\"Transition_State/HCCH3_TST.txt\", sep=\"\\t\", header=1)\n",
    "TST.columns=['Temp', 'q']\n",
    "\n",
    "initial=pd.read_csv(\"Initial_State/HCCH3_initial.txt\", sep=\"\\t\", header=1)\n",
    "initial.columns=['Temp', 'q']\n",
    "\n",
    "#This is the difference in entropy between transition state and initial state\n",
    "reactant_q=initial.q\n",
    "sp_q=TST.q\n",
    "\n",
    "T=TST.Temp\n",
    "\n",
    "#These are the energies of the initial state from the DFT calculation\n",
    "SPE_initial=-119180.7953\n",
    "ZPE_initial=1.372\n",
    "\n",
    "#Subtract the ZPE from SPE\n",
    "PE_initial=SPE_initial+ZPE_initial\n",
    "\n",
    "#These are the energies of the transition state from the DFT calculation\n",
    "SPE_TST=-119180.2037\n",
    "ZPE_TST=1.247\n",
    "\n",
    "#Subtract the ZPE from SPE\n",
    "PE_TST=SPE_TST+ZPE_TST\n",
    "\n",
    "#The change in the enthalpy of is the difference in the energy of the transition and final state, convert to kJ/mol\n",
    "Delta_E=PE_TST-PE_initial\n",
    "#print(Delta_E)\n",
    "Delta_E*=96.485\n",
    "print(Delta_E)\n",
    "\n",
    "#make a function to evaluate the rate constant at all temperatures\n",
    "#x is the variable for the temperature\n",
    "#y is the variable for the partition functions\n",
    "def k(x,y):\n",
    "    return kb*x/h*y*np.exp(-Delta_E*1e3/R/x)\n",
    "\n",
    "#Evaluate the function for all temperatures and the corresponding entropies\n",
    "k=np.array(k(T,sp_q/reactant_q))\n",
    "T_reciprok=np.array(1/T*1000)"
   ]
  },
  {
   "cell_type": "markdown",
   "metadata": {},
   "source": [
    "# Introduction"
   ]
  },
  {
   "cell_type": "markdown",
   "metadata": {},
   "source": [
    "This is the equation for the canonical transition state theory (TST) rate coefficient:\n",
    "$$ k_\\text{TST}\\left( T \\right) = \\frac{k_BT}{h} \\frac{Q^\\ddagger \\left(T\\right)}{Q_R\\left(T\\right)}e^{-E_0 / k_B T}$$"
   ]
  },
  {
   "cell_type": "markdown",
   "metadata": {},
   "source": [
    "And this is the equation for the modified Arrhenius expression for the rate coefficient:\n",
    "    $$ k \\left(T\\right) = A \\left( \\frac{T}{T_\\text{ref}} \\right)^n e^{-E_a / k_B T} $$\n",
    "    Frequently, we wish to fit the coefficients $A$, $n$, and $E_a$."
   ]
  },
  {
   "cell_type": "markdown",
   "metadata": {},
   "source": [
    "Our goal is to fit the three modified-Arrhenius parameters $A$, $n$, and $E_a$ to these data."
   ]
  },
  {
   "cell_type": "markdown",
   "metadata": {},
   "source": [
    "Let's specify the reference temperature: $T_\\text{ref} = 1$ [K]"
   ]
  },
  {
   "cell_type": "code",
   "execution_count": 2,
   "metadata": {},
   "outputs": [],
   "source": [
    "def sse_in_log(k1, k2):\n",
    "    square_residual=(np.log(k1)-np.log(k2))**2.0\n",
    "    sum_square_error=sum(square_residual)\n",
    "    return sum_square_error"
   ]
  },
  {
   "cell_type": "markdown",
   "metadata": {},
   "source": [
    "# Linearized system"
   ]
  },
  {
   "cell_type": "markdown",
   "metadata": {},
   "source": [
    "As an alternative to the previous example, note that we can linearize the Arrhenius expression as follows:\n",
    "   $$ \\ln \\left( k \\right) = \\ln \\left( A \\right) + n \\ln \\left( T \\right) - \\frac{E_a}{RT} $$"
   ]
  },
  {
   "cell_type": "markdown",
   "metadata": {},
   "source": [
    "Thus, by taking the natural log of our rate coefficient data, we now have a system that is linear in terms of the three coefficients $A$, $n$, and $E_A$. Accordingly, we can pose the problem as a linear system:\n",
    "$$\\mathbf{A} \\mathbf{x} = \\mathbf{b}$$\n",
    "(since we've already assigned the variable $A$ once, I will use the matrix $\\mathbf{Y}$ instead)\n",
    "$$\\mathbf{Y} \\mathbf{x} = \\mathbf{b}$$\n",
    "where:\n",
    "$$ \\mathbf{Y} = \\left[ \\begin{array}{ccc}\n",
    "1 & \\ln \\left( T_1 \\right) & \\frac{-1}{R T_1} \\\\\n",
    "1 & \\ln \\left( T_2 \\right) & \\frac{-1}{R T_2} \\\\\n",
    "\\vdots & \\vdots & \\vdots \\\\\n",
    "1 & \\ln \\left( T_n \\right) & \\frac{-1}{R T_n}\n",
    "\\end{array}\\right] $$\n",
    "$$ \\mathbf{x} = \\left[ \\begin{array}{c}\n",
    "ln(A) \\\\\n",
    "n \\\\ \n",
    "E_a\n",
    "\\end{array}\\right] $$\n",
    "and \n",
    "$$ \\mathbf{b} = \\left[ \\begin{array}{c}\n",
    "\\ln \\left( k \\left( T_1 \\right)  \\right) \\\\\n",
    "\\ln \\left( k \\left( T_2 \\right)  \\right) \\\\\n",
    "\\vdots \\\\\n",
    "\\ln \\left( k \\left( T_n \\right)  \\right) \\\\\n",
    "\\end{array}\\right] $$"
   ]
  },
  {
   "cell_type": "markdown",
   "metadata": {},
   "source": [
    "Because we have more data than parameters, no exact solution is possible, so our goal is the find the best possible set, $\\mathbf{\\hat{x}}$. We can solve for the unknown $\\mathbf{\\hat{x}}$ by left multiplying both the left- and right-hand side with the transpose of $\\mathbf{Y}$, $\\mathbf{Y}^\\mathbf{T}$, then left multiplying both sides by the inverse of the resulting square matrix:\n",
    "$$ \\mathbf{\\hat{x}} = \\left(\\mathbf{Y}^\\mathbf{T} \\mathbf{Y} \\right)^{-1} \\left( \\mathbf{Y}^\\mathbf{T} \\mathbf{b} \\right) $$"
   ]
  },
  {
   "cell_type": "markdown",
   "metadata": {},
   "source": [
    "Now, define the matrix $\\mathbf{Y}$. Note that, according to our definition above, we need for the dimensions of $\\mathbf{A}$ to be $N_T \\times 3$ (where $N_T$ is the number of temperatures). Somewhat confusingly, we will define it instead as a $3\\times N_T$ matrix. In other words, our initial declaration is actually the transpose."
   ]
  },
  {
   "cell_type": "markdown",
   "metadata": {},
   "source": [
    "Of course, numpy already has a pre-programmed regression function, you can simply call the function $\\texttt{lstsq}$:"
   ]
  },
  {
   "cell_type": "code",
   "execution_count": 3,
   "metadata": {},
   "outputs": [
    {
     "name": "stdout",
     "output_type": "stream",
     "text": [
      "[2.55660899e+01 5.98246567e-01 4.53010515e+04]\n"
     ]
    }
   ],
   "source": [
    "YT = np.array( [ np.ones( len(T) ), np.log(T), -1.0 / R / T ],dtype=np.float64 ) #this is transpose of our Y\n",
    "Y = YT.transpose() #this is the desired Y\n",
    "b = np.log(k)\n",
    "x = np.linalg.lstsq(Y, b, rcond=None)[0]\n",
    "#Return the least-squares solution to a linear matrix equation.\n",
    "print(x)"
   ]
  },
  {
   "cell_type": "markdown",
   "metadata": {},
   "source": [
    "Now we can unpack the solution vector $\\mathbf{\\hat{x}}$"
   ]
  },
  {
   "cell_type": "code",
   "execution_count": 4,
   "metadata": {},
   "outputs": [
    {
     "name": "stdout",
     "output_type": "stream",
     "text": [
      "Here are the results: A=1.268E+11\tn=0.598\tEa=45301.051\n"
     ]
    }
   ],
   "source": [
    "A_lin = np.exp(x[0])\n",
    "n_lin = x[1]\n",
    "Ea_lin = x[2]\n",
    "#subscript _lin is used to denote the result obtained from using linearized system\n",
    "print(\"Here are the results: A=%.3E\\tn=%.3F\\tEa=%.3F\"%(A_lin, n_lin, Ea_lin))\n",
    "k_lin = A_lin * T**n_lin * np.exp(-Ea_lin / R / T)"
   ]
  },
  {
   "cell_type": "markdown",
   "metadata": {},
   "source": [
    "In some cases it might be sufficient or preferred to make a regression only for the regular Arrhenius expression"
   ]
  },
  {
   "cell_type": "code",
   "execution_count": 5,
   "metadata": {},
   "outputs": [
    {
     "name": "stdout",
     "output_type": "stream",
     "text": [
      "Here are the results: A=1.323E+13\tEa=45301.051\n"
     ]
    }
   ],
   "source": [
    "log_k=np.log(k)\n",
    "#Reshape the arrays for the fitting procedure\n",
    "log_k=log_k.reshape(len(log_k),1)\n",
    "T_reciprok=T_reciprok.reshape(len(T_reciprok),1)\n",
    "\n",
    "from sklearn.linear_model import LinearRegression\n",
    "\n",
    "#Linear regression of an Arrhenius expression to the calculated rate constant\n",
    "model =LinearRegression(fit_intercept=True)\n",
    "model.fit(T_reciprok,log_k)\n",
    "yfit=model.predict(log_k)\n",
    "Ea_R=float(model.coef_[0])\n",
    "ln_A=float(model.intercept_[0])\n",
    "Ea=R*-Ea_R\n",
    "A=np.exp(ln_A)\n",
    "#x=np.linspace(0.5,3.5,100)\n",
    "Fit=Ea_R*1000./T+ln_A\n",
    "print(\"Here are the results: A=%.3E\\tEa=%.3F\"%(A, Ea_lin))"
   ]
  },
  {
   "cell_type": "code",
   "execution_count": 6,
   "metadata": {},
   "outputs": [
    {
     "data": {
      "image/png": "[encoded data removed]",
      "text/plain": [
       "<Figure size 504x432 with 1 Axes>"
      ]
     },
     "metadata": {
      "needs_background": "light"
     },
     "output_type": "display_data"
    }
   ],
   "source": [
    "import matplotlib.pyplot as plt\n",
    "\n",
    "fig = plt.figure()\n",
    "ax = fig.add_subplot(111)\n",
    "ax.plot(1000./T, np.log(k), 'ro', label='$\\mathrm{k_{TST}}$')\n",
    "ax.plot(1000./T, np.log(k_lin), 'b--', label='$\\mathrm{k_{fit}\\  (modified\\ Arrhenius)}$')\n",
    "ax.plot(1000./T, Fit, 'b', label='$\\mathrm{k_{fit}\\ (regular\\ Arrhenius)}$')\n",
    "ax.legend(loc='best', fontsize=12)\n",
    "ax.set_xlabel('1000/T (K$^{-1}$)', fontsize=14)\n",
    "ax.set_ylabel('$k(T)$', fontsize=14);"
   ]
  },
  {
   "cell_type": "markdown",
   "metadata": {},
   "source": [
    "sum of square error in log space:"
   ]
  },
  {
   "cell_type": "code",
   "execution_count": 7,
   "metadata": {},
   "outputs": [
    {
     "name": "stdout",
     "output_type": "stream",
     "text": [
      "modified Arrhenius: 1.37E-02\n",
      "regular Arrhenius: 3.86E-04\n"
     ]
    }
   ],
   "source": [
    "sse_lin = sse_in_log(k_lin,k)\n",
    "print(\"modified Arrhenius: %.2E\"%(sse_lin))\n",
    "\n",
    "#Compute the sum of square errors for the regular Arrhenius\n",
    "score=model.score(T_reciprok,log_k)\n",
    "print(\"regular Arrhenius: %.2E\"%(1-score))"
   ]
  },
  {
   "cell_type": "code",
   "execution_count": 8,
   "metadata": {},
   "outputs": [
    {
     "name": "stdout",
     "output_type": "stream",
     "text": [
      "A for the modified Arrhenius approach: A=2.057E+20\n",
      "A for the regular Arrhenius approach: A=2.146E+22\n"
     ]
    }
   ],
   "source": [
    "#Surface site density for Pt(111) in mol/m2\n",
    "Gamma=2.48292e-5\n",
    "\n",
    "#convert A to right units:\n",
    "A_surf = A_lin/(Gamma**2.0)\n",
    "print(\"A for the modified Arrhenius approach: A=%.3E\"%(A_surf)) #in units of m4 mol-2 s-1\n",
    "A_surf_regular = A/(Gamma**2.0)\n",
    "print(\"A for the regular Arrhenius approach: A=%.3E\"%(A_surf_regular)) #in units of m4 mol-2 s-1"
   ]
  },
  {
   "cell_type": "code",
   "execution_count": null,
   "metadata": {},
   "outputs": [],
   "source": []
  }
 ],
 "metadata": {
  "anaconda-cloud": {},
  "kernelspec": {
   "display_name": "Python 3 (ipykernel)",
   "language": "python",
   "name": "python3"
  },
  "language_info": {
   "codemirror_mode": {
    "name": "ipython",
    "version": 3
   },
   "file_extension": ".py",
   "mimetype": "text/x-python",
   "name": "python",
   "nbconvert_exporter": "python",
   "pygments_lexer": "ipython3",
   "version": "3.9.7"
  }
 },
 "nbformat": 4,
 "nbformat_minor": 1
}
