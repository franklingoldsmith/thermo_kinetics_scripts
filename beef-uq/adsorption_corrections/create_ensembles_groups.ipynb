{
 "cells": [
  {
   "cell_type": "code",
   "execution_count": 3,
   "id": "394b9dcd",
   "metadata": {},
   "outputs": [],
   "source": [
    "import numpy as np\n",
    "import os\n",
    "import pandas as pd\n",
    "\n",
    "class Molecule:\n",
    "    \n",
    "        def __init__(self):\n",
    "            #start by defining some physical constants\n",
    "            self.n_bee = 2000\n",
    "\n",
    "def parse_input(species, molecule):\n",
    "    \n",
    "    script_dir='../thermo/beef-ensembles/'\n",
    "    inputfile =  str(script_dir) + str(species) + '_ads_bee.txt'\n",
    "    data=pd.read_csv(inputfile, sep=\"\\t\", header=0)\n",
    "    molecule.perturbation=data.iloc[:,3].to_numpy()\n",
    "    \n",
    "    return molecule.perturbation"
   ]
  },
  {
   "cell_type": "code",
   "execution_count": 7,
   "id": "bd188769",
   "metadata": {},
   "outputs": [
    {
     "name": "stdout",
     "output_type": "stream",
     "text": [
      "CCHCH2-bi\n",
      "CH2CH2CH2-bi\n",
      "CHCC-bi\n",
      "CHCCH-bi\n",
      "CHCH2CH2-bi\n",
      "CHCHCH2-bi\n",
      "CHCHCH-bi\n",
      "CHCHC-bi\n",
      "CHCH2CH-bi\n",
      "CCH2C-bi\n"
     ]
    }
   ],
   "source": [
    "##run each one for debugging\n",
    "name='C*R*C*'\n",
    "list_of_species = 'nodes/species_list_' + name +  '.dat'\n",
    "info = open(list_of_species,'r')\n",
    "species_list = info.readlines()\n",
    "info.close()\n",
    "\n",
    "array_list=[]\n",
    "counter = -1\n",
    "for species in species_list:\n",
    "    counter += 1\n",
    "    filename = species.strip()\n",
    "    print(filename)\n",
    "  \n",
    "    test = Molecule()\n",
    "    array_list.append(parse_input(filename, test))\n",
    "    \n",
    "stacked=np.stack(array_list, axis=0)\n",
    "avg = np.mean(stacked, axis = 0)\n",
    "\n",
    "output_file='beef-ensembles/' + name + '_bee.txt'\n",
    "column_names=['averaged_values']\n",
    "df=pd.DataFrame(avg, columns=[column_names])\n",
    "df.to_csv(output_file,sep=\"\\t\", index=False)"
   ]
  }
 ],
 "metadata": {
  "kernelspec": {
   "display_name": "Python 3 (ipykernel)",
   "language": "python",
   "name": "python3"
  },
  "language_info": {
   "codemirror_mode": {
    "name": "ipython",
    "version": 3
   },
   "file_extension": ".py",
   "mimetype": "text/x-python",
   "name": "python",
   "nbconvert_exporter": "python",
   "pygments_lexer": "ipython3",
   "version": "3.7.12"
  }
 },
 "nbformat": 4,
 "nbformat_minor": 5
}
